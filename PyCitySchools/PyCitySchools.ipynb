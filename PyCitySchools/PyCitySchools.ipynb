{
 "cells": [
  {
   "cell_type": "markdown",
   "id": "0696eb49",
   "metadata": {},
   "source": [
    "# PyCity Schools Analysis\n",
    "- As a whole, schools with higher budgets, did not yield better test results. By contrast, schools with higher spending 645-675 per student actually underperformed compared to schools with smaller budgets (585 per student).\n",
    "\n",
    "- As a whole, smaller and medium sized schools dramatically out-performed large sized schools on passing math performances (89-91% passing vs 67%).\n",
    "\n",
    "- As a whole, charter schools out-performed the public district schools across all metrics. However, more analysis will be required to glean if the effect is due to school practices or the fact that charter schools tend to serve smaller student populations per school"
   ]
  },
  {
   "cell_type": "code",
   "execution_count": 2,
   "id": "092250e0",
   "metadata": {},
   "outputs": [
    {
     "data": {
      "text/html": [
       "<div>\n",
       "<style scoped>\n",
       "    .dataframe tbody tr th:only-of-type {\n",
       "        vertical-align: middle;\n",
       "    }\n",
       "\n",
       "    .dataframe tbody tr th {\n",
       "        vertical-align: top;\n",
       "    }\n",
       "\n",
       "    .dataframe thead th {\n",
       "        text-align: right;\n",
       "    }\n",
       "</style>\n",
       "<table border=\"1\" class=\"dataframe\">\n",
       "  <thead>\n",
       "    <tr style=\"text-align: right;\">\n",
       "      <th></th>\n",
       "      <th>Student ID</th>\n",
       "      <th>student_name</th>\n",
       "      <th>gender</th>\n",
       "      <th>grade</th>\n",
       "      <th>school_name</th>\n",
       "      <th>reading_score</th>\n",
       "      <th>math_score</th>\n",
       "      <th>School ID</th>\n",
       "      <th>type</th>\n",
       "      <th>size</th>\n",
       "      <th>budget</th>\n",
       "    </tr>\n",
       "  </thead>\n",
       "  <tbody>\n",
       "    <tr>\n",
       "      <th>0</th>\n",
       "      <td>0</td>\n",
       "      <td>Paul Bradley</td>\n",
       "      <td>M</td>\n",
       "      <td>9th</td>\n",
       "      <td>Huang High School</td>\n",
       "      <td>66</td>\n",
       "      <td>79</td>\n",
       "      <td>0</td>\n",
       "      <td>District</td>\n",
       "      <td>2917</td>\n",
       "      <td>1910635</td>\n",
       "    </tr>\n",
       "    <tr>\n",
       "      <th>1</th>\n",
       "      <td>1</td>\n",
       "      <td>Victor Smith</td>\n",
       "      <td>M</td>\n",
       "      <td>12th</td>\n",
       "      <td>Huang High School</td>\n",
       "      <td>94</td>\n",
       "      <td>61</td>\n",
       "      <td>0</td>\n",
       "      <td>District</td>\n",
       "      <td>2917</td>\n",
       "      <td>1910635</td>\n",
       "    </tr>\n",
       "    <tr>\n",
       "      <th>2</th>\n",
       "      <td>2</td>\n",
       "      <td>Kevin Rodriguez</td>\n",
       "      <td>M</td>\n",
       "      <td>12th</td>\n",
       "      <td>Huang High School</td>\n",
       "      <td>90</td>\n",
       "      <td>60</td>\n",
       "      <td>0</td>\n",
       "      <td>District</td>\n",
       "      <td>2917</td>\n",
       "      <td>1910635</td>\n",
       "    </tr>\n",
       "    <tr>\n",
       "      <th>3</th>\n",
       "      <td>3</td>\n",
       "      <td>Dr. Richard Scott</td>\n",
       "      <td>M</td>\n",
       "      <td>12th</td>\n",
       "      <td>Huang High School</td>\n",
       "      <td>67</td>\n",
       "      <td>58</td>\n",
       "      <td>0</td>\n",
       "      <td>District</td>\n",
       "      <td>2917</td>\n",
       "      <td>1910635</td>\n",
       "    </tr>\n",
       "    <tr>\n",
       "      <th>4</th>\n",
       "      <td>4</td>\n",
       "      <td>Bonnie Ray</td>\n",
       "      <td>F</td>\n",
       "      <td>9th</td>\n",
       "      <td>Huang High School</td>\n",
       "      <td>97</td>\n",
       "      <td>84</td>\n",
       "      <td>0</td>\n",
       "      <td>District</td>\n",
       "      <td>2917</td>\n",
       "      <td>1910635</td>\n",
       "    </tr>\n",
       "  </tbody>\n",
       "</table>\n",
       "</div>"
      ],
      "text/plain": [
       "   Student ID       student_name gender grade        school_name  \\\n",
       "0           0       Paul Bradley      M   9th  Huang High School   \n",
       "1           1       Victor Smith      M  12th  Huang High School   \n",
       "2           2    Kevin Rodriguez      M  12th  Huang High School   \n",
       "3           3  Dr. Richard Scott      M  12th  Huang High School   \n",
       "4           4         Bonnie Ray      F   9th  Huang High School   \n",
       "\n",
       "   reading_score  math_score  School ID      type  size   budget  \n",
       "0             66          79          0  District  2917  1910635  \n",
       "1             94          61          0  District  2917  1910635  \n",
       "2             90          60          0  District  2917  1910635  \n",
       "3             67          58          0  District  2917  1910635  \n",
       "4             97          84          0  District  2917  1910635  "
      ]
     },
     "execution_count": 2,
     "metadata": {},
     "output_type": "execute_result"
    }
   ],
   "source": [
    "# Setting up \n",
    "import pandas as pd\n",
    "\n",
    "# Loading resource files\n",
    "school_data_file = \"../Resources/schools_complete.csv\"\n",
    "student_data_file = \"../Resources/students_complete.csv\"\n",
    "\n",
    "# Reading both the data files and storing them in pandas dataframe\n",
    "school_data = pd.read_csv(school_data_file)\n",
    "student_data = pd.read_csv(student_data_file)\n",
    "\n",
    "# Checking that Pandas can read the files\n",
    "school_data\n",
    "student_data\n",
    "\n",
    "# Combining the data into a single dataset\n",
    "school_data_complete = pd.merge(student_data, school_data, how=\"left\", on=[\"school_name\"])\n",
    "school_data_complete.head()"
   ]
  },
  {
   "cell_type": "markdown",
   "id": "736f6f90",
   "metadata": {},
   "source": [
    "# District Summary"
   ]
  },
  {
   "cell_type": "code",
   "execution_count": 3,
   "id": "41de88b4",
   "metadata": {},
   "outputs": [],
   "source": [
    "# Calculating the total number of different schools\n",
    "school_count = len(school_data_complete[\"school_name\"].unique())\n"
   ]
  },
  {
   "cell_type": "code",
   "execution_count": 4,
   "id": "8bfe4ea1",
   "metadata": {},
   "outputs": [],
   "source": [
    "# Finding the total number of students\n",
    "student_count = len(school_data_complete[\"Student ID\"])\n"
   ]
  },
  {
   "cell_type": "code",
   "execution_count": 5,
   "id": "c36f2c76",
   "metadata": {},
   "outputs": [],
   "source": [
    "# Calculating the total budget \n",
    "total_budget = sum(school_data_complete[\"budget\"].unique())\n"
   ]
  },
  {
   "cell_type": "code",
   "execution_count": 6,
   "id": "57765d60",
   "metadata": {},
   "outputs": [],
   "source": [
    "# Calculating the average math score\n",
    "average_math_score = school_data_complete[\"math_score\"].mean()\n"
   ]
  },
  {
   "cell_type": "code",
   "execution_count": 7,
   "id": "73c32c8a",
   "metadata": {},
   "outputs": [],
   "source": [
    "# Calculating the average reading score\n",
    "average_reading_score = school_data_complete[\"reading_score\"].mean()\n"
   ]
  },
  {
   "cell_type": "code",
   "execution_count": 8,
   "id": "afdb5d6c",
   "metadata": {},
   "outputs": [],
   "source": [
    "# Calculating the percentage of students who passed math (math scores greater than or equal to 70)\n",
    "pass_math_count = school_data_complete[(school_data_complete[\"math_score\"] >= 70)].count()[\"student_name\"]\n",
    "pass_math_percent = pass_math_count / float(student_count) * 100\n"
   ]
  },
  {
   "cell_type": "code",
   "execution_count": 9,
   "id": "861bb325",
   "metadata": {},
   "outputs": [],
   "source": [
    "# Calculating the percentage of students who passed reading (with scores greater than or equal to 70)\n",
    "pass_reading_count = school_data_complete[(school_data_complete[\"reading_score\"] >= 70)].count()[\"student_name\"]\n",
    "pass_reading_percent = pass_reading_count / float(student_count) * 100\n"
   ]
  },
  {
   "cell_type": "code",
   "execution_count": 10,
   "id": "7aff9e48",
   "metadata": {},
   "outputs": [],
   "source": [
    "# Calculating the percentage of students that passed both math and reading\n",
    "pass_math_reading_count = school_data_complete[\n",
    "    (school_data_complete[\"math_score\"] >= 70) & (school_data_complete[\"reading_score\"] >= 70)].count()[\"student_name\"]\n",
    "overall_pass_rate = pass_math_reading_count / float(student_count) * 100\n"
   ]
  },
  {
   "cell_type": "code",
   "execution_count": 11,
   "id": "76e2c865",
   "metadata": {},
   "outputs": [
    {
     "data": {
      "text/html": [
       "<div>\n",
       "<style scoped>\n",
       "    .dataframe tbody tr th:only-of-type {\n",
       "        vertical-align: middle;\n",
       "    }\n",
       "\n",
       "    .dataframe tbody tr th {\n",
       "        vertical-align: top;\n",
       "    }\n",
       "\n",
       "    .dataframe thead th {\n",
       "        text-align: right;\n",
       "    }\n",
       "</style>\n",
       "<table border=\"1\" class=\"dataframe\">\n",
       "  <thead>\n",
       "    <tr style=\"text-align: right;\">\n",
       "      <th></th>\n",
       "      <th>Total Schools</th>\n",
       "      <th>Total Students</th>\n",
       "      <th>Total Budget</th>\n",
       "      <th>Average Math Score</th>\n",
       "      <th>Average Reading Score</th>\n",
       "      <th>% Passing Math</th>\n",
       "      <th>% Passing Reading</th>\n",
       "      <th>% Overall Passing</th>\n",
       "    </tr>\n",
       "  </thead>\n",
       "  <tbody>\n",
       "    <tr>\n",
       "      <th>0</th>\n",
       "      <td>15</td>\n",
       "      <td>39,170</td>\n",
       "      <td>$24,649,428.00</td>\n",
       "      <td>78.985371</td>\n",
       "      <td>81.87784</td>\n",
       "      <td>74.980853</td>\n",
       "      <td>85.805463</td>\n",
       "      <td>65.172326</td>\n",
       "    </tr>\n",
       "  </tbody>\n",
       "</table>\n",
       "</div>"
      ],
      "text/plain": [
       "   Total Schools Total Students    Total Budget  Average Math Score  \\\n",
       "0             15         39,170  $24,649,428.00           78.985371   \n",
       "\n",
       "   Average Reading Score  % Passing Math  % Passing Reading  % Overall Passing  \n",
       "0               81.87784       74.980853          85.805463          65.172326  "
      ]
     },
     "execution_count": 11,
     "metadata": {},
     "output_type": "execute_result"
    }
   ],
   "source": [
    "# Create a high-level snapshot of district's key metrics in a DataFrame\n",
    "district_summary = pd.DataFrame({\"Total Schools\" : [school_count],\n",
    "                                \"Total Students\" : [student_count],\n",
    "                                \"Total Budget\" : [total_budget],\n",
    "                                \"Average Math Score\" : [average_math_score],\n",
    "                                \"Average Reading Score\" : [average_reading_score],\n",
    "                                \"% Passing Math\" : [pass_math_percent],\n",
    "                                \"% Passing Reading\" : [pass_reading_percent],\n",
    "                                \"% Overall Passing\" : [overall_pass_rate]})\n",
    "# Formatting\n",
    "district_summary[\"Total Students\"] = district_summary[\"Total Students\"].map(\"{:,}\".format)\n",
    "district_summary[\"Total Budget\"] = district_summary[\"Total Budget\"].map(\"${:,.2f}\".format)\n",
    "\n",
    "# Displaying the DataFrame\n",
    "district_summary"
   ]
  },
  {
   "cell_type": "markdown",
   "id": "0e98215d",
   "metadata": {},
   "source": [
    "# School Summary"
   ]
  },
  {
   "cell_type": "code",
   "execution_count": 12,
   "id": "f9d47084",
   "metadata": {},
   "outputs": [],
   "source": [
    "# Finding the school types\n",
    "school_types = school_data.set_index([\"school_name\"])[\"type\"]\n"
   ]
  },
  {
   "cell_type": "code",
   "execution_count": 13,
   "id": "f0587a9a",
   "metadata": {},
   "outputs": [],
   "source": [
    "# Calculating the total student count per school \n",
    "per_school_count = school_data_complete.groupby([\"school_name\"]).count()[\"student_name\"]\n"
   ]
  },
  {
   "cell_type": "code",
   "execution_count": 14,
   "id": "855ae547",
   "metadata": {},
   "outputs": [
    {
     "name": "stderr",
     "output_type": "stream",
     "text": [
      "C:\\Users\\annie\\AppData\\Local\\Temp\\ipykernel_8404\\1800616486.py:2: FutureWarning: The default value of numeric_only in DataFrameGroupBy.mean is deprecated. In a future version, numeric_only will default to False. Either specify numeric_only or select only columns which should be valid for the function.\n",
      "  per_school_budget = school_data_complete.groupby([\"school_name\"]).mean()[\"budget\"]\n"
     ]
    }
   ],
   "source": [
    "# Calculating the total school budget and per capita spending\n",
    "per_school_budget = school_data_complete.groupby([\"school_name\"]).mean()[\"budget\"]\n",
    "per_school_capita = per_school_budget / per_school_count\n"
   ]
  },
  {
   "cell_type": "code",
   "execution_count": 15,
   "id": "8e982423",
   "metadata": {},
   "outputs": [
    {
     "name": "stderr",
     "output_type": "stream",
     "text": [
      "C:\\Users\\annie\\AppData\\Local\\Temp\\ipykernel_8404\\3369968219.py:2: FutureWarning: The default value of numeric_only in DataFrameGroupBy.mean is deprecated. In a future version, numeric_only will default to False. Either specify numeric_only or select only columns which should be valid for the function.\n",
      "  per_school_math = school_data_complete.groupby([\"school_name\"]).mean()[\"math_score\"]\n",
      "C:\\Users\\annie\\AppData\\Local\\Temp\\ipykernel_8404\\3369968219.py:4: FutureWarning: The default value of numeric_only in DataFrameGroupBy.mean is deprecated. In a future version, numeric_only will default to False. Either specify numeric_only or select only columns which should be valid for the function.\n",
      "  per_school_reading = school_data_complete.groupby([\"school_name\"]).mean()[\"reading_score\"]\n"
     ]
    },
    {
     "data": {
      "text/plain": [
       "school_name\n",
       "Bailey High School       81.033963\n",
       "Cabrera High School      83.975780\n",
       "Figueroa High School     81.158020\n",
       "Ford High School         80.746258\n",
       "Griffin High School      83.816757\n",
       "Hernandez High School    80.934412\n",
       "Holden High School       83.814988\n",
       "Huang High School        81.182722\n",
       "Johnson High School      80.966394\n",
       "Pena High School         84.044699\n",
       "Rodriguez High School    80.744686\n",
       "Shelton High School      83.725724\n",
       "Thomas High School       83.848930\n",
       "Wilson High School       83.989488\n",
       "Wright High School       83.955000\n",
       "Name: reading_score, dtype: float64"
      ]
     },
     "execution_count": 15,
     "metadata": {},
     "output_type": "execute_result"
    }
   ],
   "source": [
    "# Calculate the average test scores\n",
    "per_school_math = school_data_complete.groupby([\"school_name\"]).mean()[\"math_score\"]\n",
    "per_school_math\n",
    "per_school_reading = school_data_complete.groupby([\"school_name\"]).mean()[\"reading_score\"]\n",
    "per_school_reading"
   ]
  },
  {
   "cell_type": "code",
   "execution_count": null,
   "id": "60c5743e",
   "metadata": {},
   "outputs": [],
   "source": [
    "# Calculate the number of schools with math scores of 70 or higher\n",
    "school_pass_math = school_data_complete[(school_data_complete[\"math_score\"] >=70 )]\n",
    "\n",
    "\n",
    "# Calculating the schools' math passing rates\n",
    "per_school_pass_math = school_pass_math.groupby([\"school_name\"]).count()[\"student_name\"] / per_school_count * 100\n"
   ]
  },
  {
   "cell_type": "code",
   "execution_count": null,
   "id": "95daef69",
   "metadata": {},
   "outputs": [],
   "source": [
    "# Calculate the number is schools with reading scores of 70 or higher\n",
    "school_pass_reading = school_data_complete[(school_data_complete[\"reading_score\"] >= 70 )]\n",
    "\n",
    "# Calculating the schools' reading passing rates\n",
    "per_school_pass_reading = school_pass_reading.groupby([\"school_name\"]).count()[\"student_name\"] / per_school_count * 100\n"
   ]
  },
  {
   "cell_type": "code",
   "execution_count": null,
   "id": "34cfc4d6",
   "metadata": {},
   "outputs": [],
   "source": [
    "# Calculate the schools that pass both math and reading with scores of 70 or higher\n",
    "pass_math_reading = school_data_complete[\n",
    "    (school_data_complete[\"math_score\"] >= 70) & (school_data_complete[\"reading_score\"] >= 70)]\n",
    "\n",
    "# Calculating the schools' math and reading passing rates\n",
    "overall_pass_rate = pass_math_reading.groupby([\"school_name\"]).count()[\"student_name\"] / per_school_count * 100\n"
   ]
  },
  {
   "cell_type": "code",
   "execution_count": null,
   "id": "f73cb99d",
   "metadata": {},
   "outputs": [],
   "source": [
    "# Creating a DataFrame to showcase all the metrics\n",
    "per_school_summary = pd.DataFrame({\"School Type\" : school_types,\n",
    "                                  \"Total Students\" : per_school_count,\n",
    "                                  \"Total School Budget\" : per_school_budget,\n",
    "                                  \"Per Student Budget\" : per_school_capita,\n",
    "                                   \"\"\n",
    "                                   \"% Passing Math\" : per_school_pass_math,\n",
    "                                    \"% Passing Reading\" : per_school_pass_reading,\n",
    "                                    \"% Overall Passing\" : overall_pass_rate\n",
    "                                  })\n",
    "per_school_summary\n"
   ]
  },
  {
   "cell_type": "code",
   "execution_count": null,
   "id": "26518f33",
   "metadata": {},
   "outputs": [],
   "source": []
  }
 ],
 "metadata": {
  "kernelspec": {
   "display_name": "Python 3 (ipykernel)",
   "language": "python",
   "name": "python3"
  },
  "language_info": {
   "codemirror_mode": {
    "name": "ipython",
    "version": 3
   },
   "file_extension": ".py",
   "mimetype": "text/x-python",
   "name": "python",
   "nbconvert_exporter": "python",
   "pygments_lexer": "ipython3",
   "version": "3.11.4"
  }
 },
 "nbformat": 4,
 "nbformat_minor": 5
}
