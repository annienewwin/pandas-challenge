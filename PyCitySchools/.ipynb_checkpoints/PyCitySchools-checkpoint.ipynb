{
 "cells": [
  {
   "cell_type": "markdown",
   "id": "94c54ba4",
   "metadata": {},
   "source": [
    "# PyCity Schools Analysis\n",
    "- As a whole, schools with higher budgets, did not yield better test results. By contrast, schools with higher spending 645-675 per student actually underperformed compared to schools with smaller budgets (585 per student).\n",
    "\n",
    "- As a whole, smaller and medium sized schools dramatically out-performed large sized schools on passing math performances (89-91% passing vs 67%).\n",
    "\n",
    "- As a whole, charter schools out-performed the public district schools across all metrics. However, more analysis will be required to glean if the effect is due to school practices or the fact that charter schools tend to serve smaller student populations per school"
   ]
  },
  {
   "cell_type": "code",
   "execution_count": null,
   "id": "3ed3b09f",
   "metadata": {},
   "outputs": [],
   "source": [
    "# Setting up \n",
    "import pandas as pd\n",
    "\n",
    "# Loading resource files\n",
    "school_data_file = \"../Resources/schools_complete.csv\"\n",
    "student_data_file = \"Resources/students_complete.csv\"\n",
    "\n",
    "# Reading both the data files and storing them in pandas dataframe\n",
    "school_data = pd.read_csv(school_data_file)\n",
    "student_data_file = pd.read_csv(student_data_file)\n",
    "\n",
    "# Checking that Pandas can read the files\n",
    "school_data"
   ]
  }
 ],
 "metadata": {
  "kernelspec": {
   "display_name": "Python 3 (ipykernel)",
   "language": "python",
   "name": "python3"
  },
  "language_info": {
   "codemirror_mode": {
    "name": "ipython",
    "version": 3
   },
   "file_extension": ".py",
   "mimetype": "text/x-python",
   "name": "python",
   "nbconvert_exporter": "python",
   "pygments_lexer": "ipython3",
   "version": "3.11.4"
  }
 },
 "nbformat": 4,
 "nbformat_minor": 5
}
